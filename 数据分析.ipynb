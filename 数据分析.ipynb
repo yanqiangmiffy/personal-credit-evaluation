{
 "cells": [
  {
   "cell_type": "markdown",
   "metadata": {},
   "source": [
    "本题针对房产交易双方，利用真实成交数据，从房地产交易维度对交易参与人进行评价，计算个人房产信用评分。"
   ]
  },
  {
   "cell_type": "markdown",
   "metadata": {},
   "source": [
    "**字段说明**：\n",
    "- USER_ID：购房人ID\n",
    "- Age：\t年龄\n",
    "- Sex：\t性别\n",
    "- TEL_ID：\t电话归属地\n",
    "- Province：\t省份\n",
    "- NATIONALITY：\t国籍\n",
    "- HOU_ID：\t房屋编号\n",
    "- Property_ID：\t房屋属性 0：存量房、1：商品房、\n",
    "- Property_Usage_Type：\t房屋用途\n",
    "- Property_Architectural_Area：\t建筑面积\n",
    "- Property_Sign_Date：\t网签时间\n",
    "- Property_Record_Date：\t备案时间\n",
    "- Property_Price：\t房屋成交总价\n",
    "- Property_Loan_Way：\t贷款方式\n",
    "- Property_Payment：\t付款方式\n",
    "- CFCS\t查封次数：\n",
    "- JFCS\t解封次数：\n",
    "- Purchase_houcs：\t历史买房次数\n",
    "- Sale_houcs：\t历史卖房次数\n",
    "- Mortgage_starttime：\t抵押开始时间\n",
    "- Mortgage_endtime：\t抵押结束时间\n"
   ]
  },
  {
   "cell_type": "markdown",
   "metadata": {},
   "source": [
    "## 1 加载数据"
   ]
  },
  {
   "cell_type": "code",
   "execution_count": 2,
   "metadata": {},
   "outputs": [],
   "source": [
    "import pandas as pd\n",
    "import seaborn as sns\n",
    "import matplotlib.pyplot as  plt\n",
    "pd.set_option('display.max_columns',100)"
   ]
  },
  {
   "cell_type": "code",
   "execution_count": 3,
   "metadata": {},
   "outputs": [
    {
     "data": {
      "text/plain": [
       "(117919, 21)"
      ]
     },
     "execution_count": 3,
     "metadata": {},
     "output_type": "execute_result"
    }
   ],
   "source": [
    "data=pd.read_csv('data/credit_pri_data.csv')\n",
    "data.shape"
   ]
  },
  {
   "cell_type": "code",
   "execution_count": 4,
   "metadata": {
    "scrolled": true
   },
   "outputs": [
    {
     "data": {
      "text/html": [
       "<div>\n",
       "<style scoped>\n",
       "    .dataframe tbody tr th:only-of-type {\n",
       "        vertical-align: middle;\n",
       "    }\n",
       "\n",
       "    .dataframe tbody tr th {\n",
       "        vertical-align: top;\n",
       "    }\n",
       "\n",
       "    .dataframe thead th {\n",
       "        text-align: right;\n",
       "    }\n",
       "</style>\n",
       "<table border=\"1\" class=\"dataframe\">\n",
       "  <thead>\n",
       "    <tr style=\"text-align: right;\">\n",
       "      <th></th>\n",
       "      <th>USER_ID</th>\n",
       "      <th>AGE</th>\n",
       "      <th>SEX</th>\n",
       "      <th>TEL_ID</th>\n",
       "      <th>PROVINCE</th>\n",
       "      <th>NATIONALITY</th>\n",
       "      <th>HOU_ID</th>\n",
       "      <th>PROPERTY_ID</th>\n",
       "      <th>PROPERTY_USAGE_TYPE</th>\n",
       "      <th>PROPERTY_ARCHITECTURAL_AREA</th>\n",
       "      <th>PROPERTY_SIGN_DATE</th>\n",
       "      <th>PROPERTY_RECORD_DATE</th>\n",
       "      <th>PROPERTY_PRICE</th>\n",
       "      <th>PROPERTY_LOAN_WAY</th>\n",
       "      <th>PROPERTY_PAYMENT</th>\n",
       "      <th>CFCS</th>\n",
       "      <th>JFCS</th>\n",
       "      <th>Mortgage_starttime</th>\n",
       "      <th>Mortgage_endtime</th>\n",
       "      <th>Purchase_houcs</th>\n",
       "      <th>Sale_houcs</th>\n",
       "    </tr>\n",
       "  </thead>\n",
       "  <tbody>\n",
       "    <tr>\n",
       "      <th>0</th>\n",
       "      <td>553081</td>\n",
       "      <td>2.0</td>\n",
       "      <td>0.0</td>\n",
       "      <td>0</td>\n",
       "      <td>33</td>\n",
       "      <td>1</td>\n",
       "      <td>110699851</td>\n",
       "      <td>1</td>\n",
       "      <td>1</td>\n",
       "      <td>0</td>\n",
       "      <td>2018/04</td>\n",
       "      <td>2018/04</td>\n",
       "      <td>0</td>\n",
       "      <td>3</td>\n",
       "      <td>3</td>\n",
       "      <td>NaN</td>\n",
       "      <td>NaN</td>\n",
       "      <td>NaN</td>\n",
       "      <td>NaN</td>\n",
       "      <td>2.0</td>\n",
       "      <td>1.0</td>\n",
       "    </tr>\n",
       "    <tr>\n",
       "      <th>1</th>\n",
       "      <td>620729</td>\n",
       "      <td>2.0</td>\n",
       "      <td>1.0</td>\n",
       "      <td>0</td>\n",
       "      <td>33</td>\n",
       "      <td>1</td>\n",
       "      <td>110699851</td>\n",
       "      <td>1</td>\n",
       "      <td>1</td>\n",
       "      <td>0</td>\n",
       "      <td>2018/04</td>\n",
       "      <td>2018/04</td>\n",
       "      <td>0</td>\n",
       "      <td>3</td>\n",
       "      <td>3</td>\n",
       "      <td>NaN</td>\n",
       "      <td>NaN</td>\n",
       "      <td>NaN</td>\n",
       "      <td>NaN</td>\n",
       "      <td>2.0</td>\n",
       "      <td>1.0</td>\n",
       "    </tr>\n",
       "    <tr>\n",
       "      <th>2</th>\n",
       "      <td>473511</td>\n",
       "      <td>4.0</td>\n",
       "      <td>0.0</td>\n",
       "      <td>0</td>\n",
       "      <td>61</td>\n",
       "      <td>1</td>\n",
       "      <td>110805321</td>\n",
       "      <td>1</td>\n",
       "      <td>1</td>\n",
       "      <td>2</td>\n",
       "      <td>2018/04</td>\n",
       "      <td>2018/04</td>\n",
       "      <td>3</td>\n",
       "      <td>5</td>\n",
       "      <td>2</td>\n",
       "      <td>NaN</td>\n",
       "      <td>NaN</td>\n",
       "      <td>NaN</td>\n",
       "      <td>NaN</td>\n",
       "      <td>2.0</td>\n",
       "      <td>NaN</td>\n",
       "    </tr>\n",
       "    <tr>\n",
       "      <th>3</th>\n",
       "      <td>700187</td>\n",
       "      <td>4.0</td>\n",
       "      <td>1.0</td>\n",
       "      <td>0</td>\n",
       "      <td>33</td>\n",
       "      <td>1</td>\n",
       "      <td>110805321</td>\n",
       "      <td>1</td>\n",
       "      <td>1</td>\n",
       "      <td>2</td>\n",
       "      <td>2018/04</td>\n",
       "      <td>2018/04</td>\n",
       "      <td>3</td>\n",
       "      <td>5</td>\n",
       "      <td>2</td>\n",
       "      <td>NaN</td>\n",
       "      <td>NaN</td>\n",
       "      <td>NaN</td>\n",
       "      <td>NaN</td>\n",
       "      <td>1.0</td>\n",
       "      <td>1.0</td>\n",
       "    </tr>\n",
       "    <tr>\n",
       "      <th>4</th>\n",
       "      <td>172276</td>\n",
       "      <td>4.0</td>\n",
       "      <td>0.0</td>\n",
       "      <td>0</td>\n",
       "      <td>33</td>\n",
       "      <td>1</td>\n",
       "      <td>110165121</td>\n",
       "      <td>1</td>\n",
       "      <td>1</td>\n",
       "      <td>0</td>\n",
       "      <td>2018/03</td>\n",
       "      <td>2018/03</td>\n",
       "      <td>1</td>\n",
       "      <td>5</td>\n",
       "      <td>1</td>\n",
       "      <td>NaN</td>\n",
       "      <td>NaN</td>\n",
       "      <td>NaN</td>\n",
       "      <td>NaN</td>\n",
       "      <td>1.0</td>\n",
       "      <td>NaN</td>\n",
       "    </tr>\n",
       "  </tbody>\n",
       "</table>\n",
       "</div>"
      ],
      "text/plain": [
       "   USER_ID  AGE  SEX  TEL_ID  PROVINCE  NATIONALITY     HOU_ID  PROPERTY_ID  \\\n",
       "0   553081  2.0  0.0       0        33            1  110699851            1   \n",
       "1   620729  2.0  1.0       0        33            1  110699851            1   \n",
       "2   473511  4.0  0.0       0        61            1  110805321            1   \n",
       "3   700187  4.0  1.0       0        33            1  110805321            1   \n",
       "4   172276  4.0  0.0       0        33            1  110165121            1   \n",
       "\n",
       "   PROPERTY_USAGE_TYPE  PROPERTY_ARCHITECTURAL_AREA PROPERTY_SIGN_DATE  \\\n",
       "0                    1                            0            2018/04   \n",
       "1                    1                            0            2018/04   \n",
       "2                    1                            2            2018/04   \n",
       "3                    1                            2            2018/04   \n",
       "4                    1                            0            2018/03   \n",
       "\n",
       "  PROPERTY_RECORD_DATE  PROPERTY_PRICE  PROPERTY_LOAN_WAY  PROPERTY_PAYMENT  \\\n",
       "0              2018/04               0                  3                 3   \n",
       "1              2018/04               0                  3                 3   \n",
       "2              2018/04               3                  5                 2   \n",
       "3              2018/04               3                  5                 2   \n",
       "4              2018/03               1                  5                 1   \n",
       "\n",
       "   CFCS  JFCS Mortgage_starttime Mortgage_endtime  Purchase_houcs  Sale_houcs  \n",
       "0   NaN   NaN                NaN              NaN             2.0         1.0  \n",
       "1   NaN   NaN                NaN              NaN             2.0         1.0  \n",
       "2   NaN   NaN                NaN              NaN             2.0         NaN  \n",
       "3   NaN   NaN                NaN              NaN             1.0         1.0  \n",
       "4   NaN   NaN                NaN              NaN             1.0         NaN  "
      ]
     },
     "execution_count": 4,
     "metadata": {},
     "output_type": "execute_result"
    }
   ],
   "source": [
    "data.head()"
   ]
  },
  {
   "cell_type": "markdown",
   "metadata": {},
   "source": [
    "统计每个字段空值个数"
   ]
  },
  {
   "cell_type": "code",
   "execution_count": 6,
   "metadata": {},
   "outputs": [
    {
     "data": {
      "text/plain": [
       "USER_ID                             0\n",
       "AGE                                68\n",
       "SEX                             24745\n",
       "TEL_ID                              0\n",
       "PROVINCE                            0\n",
       "NATIONALITY                         0\n",
       "HOU_ID                              0\n",
       "PROPERTY_ID                         0\n",
       "PROPERTY_USAGE_TYPE                 0\n",
       "PROPERTY_ARCHITECTURAL_AREA         0\n",
       "PROPERTY_SIGN_DATE                  0\n",
       "PROPERTY_RECORD_DATE                0\n",
       "PROPERTY_PRICE                      0\n",
       "PROPERTY_LOAN_WAY                   0\n",
       "PROPERTY_PAYMENT                    0\n",
       "CFCS                           117634\n",
       "JFCS                           117649\n",
       "Mortgage_starttime             110682\n",
       "Mortgage_endtime               110682\n",
       "Purchase_houcs                      2\n",
       "Sale_houcs                     102055\n",
       "dtype: int64"
      ]
     },
     "execution_count": 6,
     "metadata": {},
     "output_type": "execute_result"
    }
   ],
   "source": [
    "data.isnull().sum()"
   ]
  },
  {
   "cell_type": "code",
   "execution_count": 12,
   "metadata": {},
   "outputs": [],
   "source": [
    "data['AGE']=data['AGE'].fillna(2.0)"
   ]
  },
  {
   "cell_type": "code",
   "execution_count": 13,
   "metadata": {},
   "outputs": [
    {
     "name": "stderr",
     "output_type": "stream",
     "text": [
      "G:\\ProgramData\\Anaconda3\\lib\\site-packages\\matplotlib\\axes\\_axes.py:6462: UserWarning: The 'normed' kwarg is deprecated, and has been replaced by the 'density' kwarg.\n",
      "  warnings.warn(\"The 'normed' kwarg is deprecated, and has been \"\n"
     ]
    },
    {
     "data": {
      "text/plain": [
       "<matplotlib.axes._subplots.AxesSubplot at 0x2b88fe30a58>"
      ]
     },
     "execution_count": 13,
     "metadata": {},
     "output_type": "execute_result"
    },
    {
     "data": {
      "image/png": "[encoded data removed]",
      "text/plain": [
       "<Figure size 432x288 with 1 Axes>"
      ]
     },
     "metadata": {},
     "output_type": "display_data"
    }
   ],
   "source": [
    "sns.distplot(data['AGE'])"
   ]
  }
 ],
 "metadata": {
  "kernelspec": {
   "display_name": "Python 3",
   "language": "python",
   "name": "python3"
  },
  "language_info": {
   "codemirror_mode": {
    "name": "ipython",
    "version": 3
   },
   "file_extension": ".py",
   "mimetype": "text/x-python",
   "name": "python",
   "nbconvert_exporter": "python",
   "pygments_lexer": "ipython3",
   "version": "3.6.4"
  }
 },
 "nbformat": 4,
 "nbformat_minor": 2
}
