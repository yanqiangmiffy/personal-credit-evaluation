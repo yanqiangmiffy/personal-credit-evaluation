{
 "cells": [
  {
   "cell_type": "markdown",
   "metadata": {},
   "source": [
    "本题针对房产交易双方，利用真实成交数据，从房地产交易维度对交易参与人进行评价，计算个人房产信用评分。"
   ]
  },
  {
   "cell_type": "markdown",
   "metadata": {},
   "source": [
    "**字段说明**：\n",
    "- USER_ID：购房人ID\n",
    "- Age：\t年龄\n",
    "- Sex：\t性别\n",
    "- TEL_ID：\t电话归属地\n",
    "- Province：\t省份\n",
    "- NATIONALITY：\t国籍\n",
    "- HOU_ID：\t房屋编号\n",
    "- Property_ID：\t房屋属性 0：存量房、1：商品房、\n",
    "- Property_Usage_Type：\t房屋用途\n",
    "- Property_Architectural_Area：\t建筑面积\n",
    "- Property_Sign_Date：\t网签时间\n",
    "- Property_Record_Date：\t备案时间\n",
    "- Property_Price：\t房屋成交总价\n",
    "- Property_Loan_Way：\t贷款方式\n",
    "- Property_Payment：\t付款方式\n",
    "- CFCS\t查封次数：\n",
    "- JFCS\t解封次数：\n",
    "- Purchase_houcs：\t历史买房次数\n",
    "- Sale_houcs：\t历史卖房次数\n",
    "- Mortgage_starttime：\t抵押开始时间\n",
    "- Mortgage_endtime：\t抵押结束时间\n"
   ]
  },
  {
   "cell_type": "markdown",
   "metadata": {},
   "source": [
    "## 1 加载数据"
   ]
  },
  {
   "cell_type": "code",
   "execution_count": 15,
   "metadata": {},
   "outputs": [],
   "source": [
    "import pandas as pd\n",
    "import seaborn as sns\n",
    "import matplotlib.pyplot as  plt\n",
    "pd.set_option('display.max_columns',100)"
   ]
  },
  {
   "cell_type": "code",
   "execution_count": 16,
   "metadata": {},
   "outputs": [
    {
     "data": {
      "text/plain": [
       "(117919, 21)"
      ]
     },
     "execution_count": 16,
     "metadata": {},
     "output_type": "execute_result"
    }
   ],
   "source": [
    "data=pd.read_csv('data/credit_pri_data.csv')\n",
    "data.shape"
   ]
  },
  {
   "cell_type": "code",
   "execution_count": 17,
   "metadata": {
    "scrolled": true
   },
   "outputs": [
    {
     "data": {
      "text/html": [
       "<div>\n",
       "<style scoped>\n",
       "    .dataframe tbody tr th:only-of-type {\n",
       "        vertical-align: middle;\n",
       "    }\n",
       "\n",
       "    .dataframe tbody tr th {\n",
       "        vertical-align: top;\n",
       "    }\n",
       "\n",
       "    .dataframe thead th {\n",
       "        text-align: right;\n",
       "    }\n",
       "</style>\n",
       "<table border=\"1\" class=\"dataframe\">\n",
       "  <thead>\n",
       "    <tr style=\"text-align: right;\">\n",
       "      <th></th>\n",
       "      <th>USER_ID</th>\n",
       "      <th>AGE</th>\n",
       "      <th>SEX</th>\n",
       "      <th>TEL_ID</th>\n",
       "      <th>PROVINCE</th>\n",
       "      <th>NATIONALITY</th>\n",
       "      <th>HOU_ID</th>\n",
       "      <th>PROPERTY_ID</th>\n",
       "      <th>PROPERTY_USAGE_TYPE</th>\n",
       "      <th>PROPERTY_ARCHITECTURAL_AREA</th>\n",
       "      <th>PROPERTY_SIGN_DATE</th>\n",
       "      <th>PROPERTY_RECORD_DATE</th>\n",
       "      <th>PROPERTY_PRICE</th>\n",
       "      <th>PROPERTY_LOAN_WAY</th>\n",
       "      <th>PROPERTY_PAYMENT</th>\n",
       "      <th>CFCS</th>\n",
       "      <th>JFCS</th>\n",
       "      <th>Mortgage_starttime</th>\n",
       "      <th>Mortgage_endtime</th>\n",
       "      <th>Purchase_houcs</th>\n",
       "      <th>Sale_houcs</th>\n",
       "    </tr>\n",
       "  </thead>\n",
       "  <tbody>\n",
       "    <tr>\n",
       "      <th>0</th>\n",
       "      <td>553081</td>\n",
       "      <td>2.0</td>\n",
       "      <td>0.0</td>\n",
       "      <td>0</td>\n",
       "      <td>33</td>\n",
       "      <td>1</td>\n",
       "      <td>110699851</td>\n",
       "      <td>1</td>\n",
       "      <td>1</td>\n",
       "      <td>0</td>\n",
       "      <td>2018/04</td>\n",
       "      <td>2018/04</td>\n",
       "      <td>0</td>\n",
       "      <td>3</td>\n",
       "      <td>3</td>\n",
       "      <td>NaN</td>\n",
       "      <td>NaN</td>\n",
       "      <td>NaN</td>\n",
       "      <td>NaN</td>\n",
       "      <td>2.0</td>\n",
       "      <td>1.0</td>\n",
       "    </tr>\n",
       "    <tr>\n",
       "      <th>1</th>\n",
       "      <td>620729</td>\n",
       "      <td>2.0</td>\n",
       "      <td>1.0</td>\n",
       "      <td>0</td>\n",
       "      <td>33</td>\n",
       "      <td>1</td>\n",
       "      <td>110699851</td>\n",
       "      <td>1</td>\n",
       "      <td>1</td>\n",
       "      <td>0</td>\n",
       "      <td>2018/04</td>\n",
       "      <td>2018/04</td>\n",
       "      <td>0</td>\n",
       "      <td>3</td>\n",
       "      <td>3</td>\n",
       "      <td>NaN</td>\n",
       "      <td>NaN</td>\n",
       "      <td>NaN</td>\n",
       "      <td>NaN</td>\n",
       "      <td>2.0</td>\n",
       "      <td>1.0</td>\n",
       "    </tr>\n",
       "    <tr>\n",
       "      <th>2</th>\n",
       "      <td>473511</td>\n",
       "      <td>4.0</td>\n",
       "      <td>0.0</td>\n",
       "      <td>0</td>\n",
       "      <td>61</td>\n",
       "      <td>1</td>\n",
       "      <td>110805321</td>\n",
       "      <td>1</td>\n",
       "      <td>1</td>\n",
       "      <td>2</td>\n",
       "      <td>2018/04</td>\n",
       "      <td>2018/04</td>\n",
       "      <td>3</td>\n",
       "      <td>5</td>\n",
       "      <td>2</td>\n",
       "      <td>NaN</td>\n",
       "      <td>NaN</td>\n",
       "      <td>NaN</td>\n",
       "      <td>NaN</td>\n",
       "      <td>2.0</td>\n",
       "      <td>NaN</td>\n",
       "    </tr>\n",
       "    <tr>\n",
       "      <th>3</th>\n",
       "      <td>700187</td>\n",
       "      <td>4.0</td>\n",
       "      <td>1.0</td>\n",
       "      <td>0</td>\n",
       "      <td>33</td>\n",
       "      <td>1</td>\n",
       "      <td>110805321</td>\n",
       "      <td>1</td>\n",
       "      <td>1</td>\n",
       "      <td>2</td>\n",
       "      <td>2018/04</td>\n",
       "      <td>2018/04</td>\n",
       "      <td>3</td>\n",
       "      <td>5</td>\n",
       "      <td>2</td>\n",
       "      <td>NaN</td>\n",
       "      <td>NaN</td>\n",
       "      <td>NaN</td>\n",
       "      <td>NaN</td>\n",
       "      <td>1.0</td>\n",
       "      <td>1.0</td>\n",
       "    </tr>\n",
       "    <tr>\n",
       "      <th>4</th>\n",
       "      <td>172276</td>\n",
       "      <td>4.0</td>\n",
       "      <td>0.0</td>\n",
       "      <td>0</td>\n",
       "      <td>33</td>\n",
       "      <td>1</td>\n",
       "      <td>110165121</td>\n",
       "      <td>1</td>\n",
       "      <td>1</td>\n",
       "      <td>0</td>\n",
       "      <td>2018/03</td>\n",
       "      <td>2018/03</td>\n",
       "      <td>1</td>\n",
       "      <td>5</td>\n",
       "      <td>1</td>\n",
       "      <td>NaN</td>\n",
       "      <td>NaN</td>\n",
       "      <td>NaN</td>\n",
       "      <td>NaN</td>\n",
       "      <td>1.0</td>\n",
       "      <td>NaN</td>\n",
       "    </tr>\n",
       "  </tbody>\n",
       "</table>\n",
       "</div>"
      ],
      "text/plain": [
       "   USER_ID  AGE  SEX  TEL_ID  PROVINCE  NATIONALITY     HOU_ID  PROPERTY_ID  \\\n",
       "0   553081  2.0  0.0       0        33            1  110699851            1   \n",
       "1   620729  2.0  1.0       0        33            1  110699851            1   \n",
       "2   473511  4.0  0.0       0        61            1  110805321            1   \n",
       "3   700187  4.0  1.0       0        33            1  110805321            1   \n",
       "4   172276  4.0  0.0       0        33            1  110165121            1   \n",
       "\n",
       "   PROPERTY_USAGE_TYPE  PROPERTY_ARCHITECTURAL_AREA PROPERTY_SIGN_DATE  \\\n",
       "0                    1                            0            2018/04   \n",
       "1                    1                            0            2018/04   \n",
       "2                    1                            2            2018/04   \n",
       "3                    1                            2            2018/04   \n",
       "4                    1                            0            2018/03   \n",
       "\n",
       "  PROPERTY_RECORD_DATE  PROPERTY_PRICE  PROPERTY_LOAN_WAY  PROPERTY_PAYMENT  \\\n",
       "0              2018/04               0                  3                 3   \n",
       "1              2018/04               0                  3                 3   \n",
       "2              2018/04               3                  5                 2   \n",
       "3              2018/04               3                  5                 2   \n",
       "4              2018/03               1                  5                 1   \n",
       "\n",
       "   CFCS  JFCS Mortgage_starttime Mortgage_endtime  Purchase_houcs  Sale_houcs  \n",
       "0   NaN   NaN                NaN              NaN             2.0         1.0  \n",
       "1   NaN   NaN                NaN              NaN             2.0         1.0  \n",
       "2   NaN   NaN                NaN              NaN             2.0         NaN  \n",
       "3   NaN   NaN                NaN              NaN             1.0         1.0  \n",
       "4   NaN   NaN                NaN              NaN             1.0         NaN  "
      ]
     },
     "execution_count": 17,
     "metadata": {},
     "output_type": "execute_result"
    }
   ],
   "source": [
    "data.head()"
   ]
  },
  {
   "cell_type": "markdown",
   "metadata": {},
   "source": [
    "统计每个字段空值个数"
   ]
  },
  {
   "cell_type": "code",
   "execution_count": 18,
   "metadata": {},
   "outputs": [
    {
     "data": {
      "text/plain": [
       "USER_ID                             0\n",
       "AGE                                68\n",
       "SEX                             24745\n",
       "TEL_ID                              0\n",
       "PROVINCE                            0\n",
       "NATIONALITY                         0\n",
       "HOU_ID                              0\n",
       "PROPERTY_ID                         0\n",
       "PROPERTY_USAGE_TYPE                 0\n",
       "PROPERTY_ARCHITECTURAL_AREA         0\n",
       "PROPERTY_SIGN_DATE                  0\n",
       "PROPERTY_RECORD_DATE                0\n",
       "PROPERTY_PRICE                      0\n",
       "PROPERTY_LOAN_WAY                   0\n",
       "PROPERTY_PAYMENT                    0\n",
       "CFCS                           117634\n",
       "JFCS                           117649\n",
       "Mortgage_starttime             110682\n",
       "Mortgage_endtime               110682\n",
       "Purchase_houcs                      2\n",
       "Sale_houcs                     102055\n",
       "dtype: int64"
      ]
     },
     "execution_count": 18,
     "metadata": {},
     "output_type": "execute_result"
    }
   ],
   "source": [
    "data.isnull().sum()"
   ]
  },
  {
   "cell_type": "markdown",
   "metadata": {},
   "source": [
    "数值型数据的基本统计"
   ]
  },
  {
   "cell_type": "code",
   "execution_count": 19,
   "metadata": {},
   "outputs": [
    {
     "data": {
      "text/html": [
       "<div>\n",
       "<style scoped>\n",
       "    .dataframe tbody tr th:only-of-type {\n",
       "        vertical-align: middle;\n",
       "    }\n",
       "\n",
       "    .dataframe tbody tr th {\n",
       "        vertical-align: top;\n",
       "    }\n",
       "\n",
       "    .dataframe thead th {\n",
       "        text-align: right;\n",
       "    }\n",
       "</style>\n",
       "<table border=\"1\" class=\"dataframe\">\n",
       "  <thead>\n",
       "    <tr style=\"text-align: right;\">\n",
       "      <th></th>\n",
       "      <th>USER_ID</th>\n",
       "      <th>AGE</th>\n",
       "      <th>SEX</th>\n",
       "      <th>TEL_ID</th>\n",
       "      <th>PROVINCE</th>\n",
       "      <th>NATIONALITY</th>\n",
       "      <th>HOU_ID</th>\n",
       "      <th>PROPERTY_ID</th>\n",
       "      <th>PROPERTY_USAGE_TYPE</th>\n",
       "      <th>PROPERTY_ARCHITECTURAL_AREA</th>\n",
       "      <th>PROPERTY_PRICE</th>\n",
       "      <th>PROPERTY_LOAN_WAY</th>\n",
       "      <th>PROPERTY_PAYMENT</th>\n",
       "      <th>CFCS</th>\n",
       "      <th>JFCS</th>\n",
       "      <th>Purchase_houcs</th>\n",
       "      <th>Sale_houcs</th>\n",
       "    </tr>\n",
       "  </thead>\n",
       "  <tbody>\n",
       "    <tr>\n",
       "      <th>count</th>\n",
       "      <td>117919.000000</td>\n",
       "      <td>117851.000000</td>\n",
       "      <td>93174.000000</td>\n",
       "      <td>117919.000000</td>\n",
       "      <td>117919.000000</td>\n",
       "      <td>117919.000000</td>\n",
       "      <td>1.179190e+05</td>\n",
       "      <td>117919.0</td>\n",
       "      <td>117919.000000</td>\n",
       "      <td>117919.000000</td>\n",
       "      <td>117919.000000</td>\n",
       "      <td>117919.000000</td>\n",
       "      <td>117919.000000</td>\n",
       "      <td>285.000000</td>\n",
       "      <td>270.000000</td>\n",
       "      <td>117917.000000</td>\n",
       "      <td>15864.000000</td>\n",
       "    </tr>\n",
       "    <tr>\n",
       "      <th>mean</th>\n",
       "      <td>448101.192200</td>\n",
       "      <td>2.269858</td>\n",
       "      <td>0.495514</td>\n",
       "      <td>0.814949</td>\n",
       "      <td>33.647911</td>\n",
       "      <td>4.006471</td>\n",
       "      <td>4.989354e+08</td>\n",
       "      <td>1.0</td>\n",
       "      <td>0.221126</td>\n",
       "      <td>1.849990</td>\n",
       "      <td>1.436698</td>\n",
       "      <td>4.118310</td>\n",
       "      <td>2.695800</td>\n",
       "      <td>1.035088</td>\n",
       "      <td>1.059259</td>\n",
       "      <td>3.360567</td>\n",
       "      <td>1.857413</td>\n",
       "    </tr>\n",
       "    <tr>\n",
       "      <th>std</th>\n",
       "      <td>191807.006749</td>\n",
       "      <td>1.613968</td>\n",
       "      <td>0.499983</td>\n",
       "      <td>0.388340</td>\n",
       "      <td>4.868773</td>\n",
       "      <td>6.004428</td>\n",
       "      <td>3.359129e+08</td>\n",
       "      <td>0.0</td>\n",
       "      <td>0.415007</td>\n",
       "      <td>1.338169</td>\n",
       "      <td>1.504583</td>\n",
       "      <td>1.097807</td>\n",
       "      <td>1.448486</td>\n",
       "      <td>0.184325</td>\n",
       "      <td>0.350527</td>\n",
       "      <td>5.978858</td>\n",
       "      <td>3.831586</td>\n",
       "    </tr>\n",
       "    <tr>\n",
       "      <th>min</th>\n",
       "      <td>152364.000000</td>\n",
       "      <td>-1.000000</td>\n",
       "      <td>0.000000</td>\n",
       "      <td>0.000000</td>\n",
       "      <td>11.000000</td>\n",
       "      <td>1.000000</td>\n",
       "      <td>1.502600e+04</td>\n",
       "      <td>1.0</td>\n",
       "      <td>0.000000</td>\n",
       "      <td>0.000000</td>\n",
       "      <td>0.000000</td>\n",
       "      <td>1.000000</td>\n",
       "      <td>1.000000</td>\n",
       "      <td>1.000000</td>\n",
       "      <td>1.000000</td>\n",
       "      <td>1.000000</td>\n",
       "      <td>1.000000</td>\n",
       "    </tr>\n",
       "    <tr>\n",
       "      <th>25%</th>\n",
       "      <td>256074.500000</td>\n",
       "      <td>1.000000</td>\n",
       "      <td>0.000000</td>\n",
       "      <td>1.000000</td>\n",
       "      <td>33.000000</td>\n",
       "      <td>1.000000</td>\n",
       "      <td>1.093536e+08</td>\n",
       "      <td>1.0</td>\n",
       "      <td>0.000000</td>\n",
       "      <td>1.000000</td>\n",
       "      <td>0.000000</td>\n",
       "      <td>3.000000</td>\n",
       "      <td>1.000000</td>\n",
       "      <td>1.000000</td>\n",
       "      <td>1.000000</td>\n",
       "      <td>1.000000</td>\n",
       "      <td>1.000000</td>\n",
       "    </tr>\n",
       "    <tr>\n",
       "      <th>50%</th>\n",
       "      <td>473617.000000</td>\n",
       "      <td>2.000000</td>\n",
       "      <td>0.000000</td>\n",
       "      <td>1.000000</td>\n",
       "      <td>33.000000</td>\n",
       "      <td>1.000000</td>\n",
       "      <td>7.028562e+08</td>\n",
       "      <td>1.0</td>\n",
       "      <td>0.000000</td>\n",
       "      <td>2.000000</td>\n",
       "      <td>1.000000</td>\n",
       "      <td>5.000000</td>\n",
       "      <td>3.000000</td>\n",
       "      <td>1.000000</td>\n",
       "      <td>1.000000</td>\n",
       "      <td>2.000000</td>\n",
       "      <td>1.000000</td>\n",
       "    </tr>\n",
       "    <tr>\n",
       "      <th>75%</th>\n",
       "      <td>625533.500000</td>\n",
       "      <td>3.000000</td>\n",
       "      <td>1.000000</td>\n",
       "      <td>1.000000</td>\n",
       "      <td>33.000000</td>\n",
       "      <td>1.000000</td>\n",
       "      <td>8.078673e+08</td>\n",
       "      <td>1.0</td>\n",
       "      <td>0.000000</td>\n",
       "      <td>3.000000</td>\n",
       "      <td>2.000000</td>\n",
       "      <td>5.000000</td>\n",
       "      <td>3.000000</td>\n",
       "      <td>1.000000</td>\n",
       "      <td>1.000000</td>\n",
       "      <td>4.000000</td>\n",
       "      <td>2.000000</td>\n",
       "    </tr>\n",
       "    <tr>\n",
       "      <th>max</th>\n",
       "      <td>813147.000000</td>\n",
       "      <td>5.000000</td>\n",
       "      <td>1.000000</td>\n",
       "      <td>1.000000</td>\n",
       "      <td>71.000000</td>\n",
       "      <td>16.000000</td>\n",
       "      <td>8.125446e+08</td>\n",
       "      <td>1.0</td>\n",
       "      <td>1.000000</td>\n",
       "      <td>4.000000</td>\n",
       "      <td>5.000000</td>\n",
       "      <td>5.000000</td>\n",
       "      <td>5.000000</td>\n",
       "      <td>2.000000</td>\n",
       "      <td>4.000000</td>\n",
       "      <td>207.000000</td>\n",
       "      <td>204.000000</td>\n",
       "    </tr>\n",
       "  </tbody>\n",
       "</table>\n",
       "</div>"
      ],
      "text/plain": [
       "             USER_ID            AGE           SEX         TEL_ID  \\\n",
       "count  117919.000000  117851.000000  93174.000000  117919.000000   \n",
       "mean   448101.192200       2.269858      0.495514       0.814949   \n",
       "std    191807.006749       1.613968      0.499983       0.388340   \n",
       "min    152364.000000      -1.000000      0.000000       0.000000   \n",
       "25%    256074.500000       1.000000      0.000000       1.000000   \n",
       "50%    473617.000000       2.000000      0.000000       1.000000   \n",
       "75%    625533.500000       3.000000      1.000000       1.000000   \n",
       "max    813147.000000       5.000000      1.000000       1.000000   \n",
       "\n",
       "            PROVINCE    NATIONALITY        HOU_ID  PROPERTY_ID  \\\n",
       "count  117919.000000  117919.000000  1.179190e+05     117919.0   \n",
       "mean       33.647911       4.006471  4.989354e+08          1.0   \n",
       "std         4.868773       6.004428  3.359129e+08          0.0   \n",
       "min        11.000000       1.000000  1.502600e+04          1.0   \n",
       "25%        33.000000       1.000000  1.093536e+08          1.0   \n",
       "50%        33.000000       1.000000  7.028562e+08          1.0   \n",
       "75%        33.000000       1.000000  8.078673e+08          1.0   \n",
       "max        71.000000      16.000000  8.125446e+08          1.0   \n",
       "\n",
       "       PROPERTY_USAGE_TYPE  PROPERTY_ARCHITECTURAL_AREA  PROPERTY_PRICE  \\\n",
       "count        117919.000000                117919.000000   117919.000000   \n",
       "mean              0.221126                     1.849990        1.436698   \n",
       "std               0.415007                     1.338169        1.504583   \n",
       "min               0.000000                     0.000000        0.000000   \n",
       "25%               0.000000                     1.000000        0.000000   \n",
       "50%               0.000000                     2.000000        1.000000   \n",
       "75%               0.000000                     3.000000        2.000000   \n",
       "max               1.000000                     4.000000        5.000000   \n",
       "\n",
       "       PROPERTY_LOAN_WAY  PROPERTY_PAYMENT        CFCS        JFCS  \\\n",
       "count      117919.000000     117919.000000  285.000000  270.000000   \n",
       "mean            4.118310          2.695800    1.035088    1.059259   \n",
       "std             1.097807          1.448486    0.184325    0.350527   \n",
       "min             1.000000          1.000000    1.000000    1.000000   \n",
       "25%             3.000000          1.000000    1.000000    1.000000   \n",
       "50%             5.000000          3.000000    1.000000    1.000000   \n",
       "75%             5.000000          3.000000    1.000000    1.000000   \n",
       "max             5.000000          5.000000    2.000000    4.000000   \n",
       "\n",
       "       Purchase_houcs    Sale_houcs  \n",
       "count   117917.000000  15864.000000  \n",
       "mean         3.360567      1.857413  \n",
       "std          5.978858      3.831586  \n",
       "min          1.000000      1.000000  \n",
       "25%          1.000000      1.000000  \n",
       "50%          2.000000      1.000000  \n",
       "75%          4.000000      2.000000  \n",
       "max        207.000000    204.000000  "
      ]
     },
     "execution_count": 19,
     "metadata": {},
     "output_type": "execute_result"
    }
   ],
   "source": [
    "data.describe()"
   ]
  },
  {
   "cell_type": "markdown",
   "metadata": {},
   "source": [
    "<center>**--个人基本信息--**</center>                                         "
   ]
  },
  {
   "cell_type": "markdown",
   "metadata": {},
   "source": [
    "### 1.1 年龄分析"
   ]
  },
  {
   "cell_type": "code",
   "execution_count": 24,
   "metadata": {},
   "outputs": [
    {
     "data": {
      "text/plain": [
       " 2.0    29998\n",
       " 3.0    23773\n",
       " 1.0    18102\n",
       " 4.0    14929\n",
       " 0.0    13215\n",
       " 5.0    12735\n",
       "-1.0     5167\n",
       "Name: AGE, dtype: int64"
      ]
     },
     "execution_count": 24,
     "metadata": {},
     "output_type": "execute_result"
    }
   ],
   "source": [
    "data['AGE']=data['AGE'].fillna(2.0)\n",
    "data['AGE'].value_counts()"
   ]
  },
  {
   "cell_type": "markdown",
   "metadata": {},
   "source": [
    "我们可以看到，年龄存在-1值，属于异常值，需要处理掉"
   ]
  },
  {
   "cell_type": "code",
   "execution_count": 23,
   "metadata": {},
   "outputs": [
    {
     "data": {
      "image/png": "[encoded data removed]",
      "text/plain": [
       "<Figure size 432x288 with 1 Axes>"
      ]
     },
     "metadata": {},
     "output_type": "display_data"
    }
   ],
   "source": [
    "data['AGE'].value_counts().plot(kind='bar')\n",
    "plt.show()"
   ]
  },
  {
   "cell_type": "markdown",
   "metadata": {},
   "source": [
    "### 1.2 性别分析\n",
    "按照0-1表示：0:男、1:女"
   ]
  },
  {
   "cell_type": "code",
   "execution_count": 26,
   "metadata": {},
   "outputs": [
    {
     "data": {
      "text/plain": [
       "0.0    47005\n",
       "1.0    46169\n",
       "Name: SEX, dtype: int64"
      ]
     },
     "execution_count": 26,
     "metadata": {},
     "output_type": "execute_result"
    }
   ],
   "source": [
    "data['SEX'].value_counts()"
   ]
  },
  {
   "cell_type": "code",
   "execution_count": 32,
   "metadata": {},
   "outputs": [
    {
     "data": {
      "image/png": "[encoded data removed]",
      "text/plain": [
       "<Figure size 432x288 with 1 Axes>"
      ]
     },
     "metadata": {},
     "output_type": "display_data"
    }
   ],
   "source": [
    "g=sns.countplot(x='SEX',data=data)\n",
    "g = plt.setp(g.get_xticklabels(), rotation=45) "
   ]
  },
  {
   "cell_type": "markdown",
   "metadata": {},
   "source": [
    "我们从前面知道年龄有2万多条为空值，在这里看到男女比例基本一样，我们可以将年龄缺失值随机用0,1填充或者去除这些空值行，或者不选去性别这个特征"
   ]
  },
  {
   "cell_type": "markdown",
   "metadata": {},
   "source": [
    "### 1.3 电话归属地\n",
    "\n",
    "按照0-1表示：0:浙江省、1:其他"
   ]
  },
  {
   "cell_type": "code",
   "execution_count": 33,
   "metadata": {},
   "outputs": [
    {
     "data": {
      "image/png": "[encoded data removed]",
      "text/plain": [
       "<Figure size 432x288 with 1 Axes>"
      ]
     },
     "metadata": {},
     "output_type": "display_data"
    }
   ],
   "source": [
    "g=sns.countplot(x='TEL_ID',data=data)\n",
    "g = plt.setp(g.get_xticklabels(), rotation=45) "
   ]
  },
  {
   "cell_type": "markdown",
   "metadata": {},
   "source": [
    "从上图可以看出，这一个区别性比较大的特征"
   ]
  },
  {
   "cell_type": "markdown",
   "metadata": {},
   "source": [
    "### 1.4 省份分析\n",
    "33 代表浙江省"
   ]
  },
  {
   "cell_type": "code",
   "execution_count": 71,
   "metadata": {},
   "outputs": [
    {
     "data": {
      "text/plain": [
       "33    93990\n",
       "34     4305\n",
       "36     3154\n",
       "41     2412\n",
       "32     2031\n",
       "42     1768\n",
       "37     1230\n",
       "23     1087\n",
       "43     1038\n",
       "51      911\n",
       "35      872\n",
       "22      554\n",
       "21      537\n",
       "13      522\n",
       "61      473\n",
       "14      415\n",
       "31      333\n",
       "62      292\n",
       "15      281\n",
       "44      251\n",
       "52      249\n",
       "65      238\n",
       "11      209\n",
       "45      195\n",
       "50      187\n",
       "53      126\n",
       "64       83\n",
       "12       77\n",
       "63       55\n",
       "46       42\n",
       "71        1\n",
       "54        1\n",
       "Name: PROVINCE, dtype: int64"
      ]
     },
     "execution_count": 71,
     "metadata": {},
     "output_type": "execute_result"
    }
   ],
   "source": [
    "data['PROVINCE'].value_counts()"
   ]
  },
  {
   "cell_type": "code",
   "execution_count": 69,
   "metadata": {},
   "outputs": [
    {
     "data": {
      "image/png": "[encoded data removed]",
      "text/plain": [
       "<Figure size 1440x360 with 1 Axes>"
      ]
     },
     "metadata": {},
     "output_type": "display_data"
    }
   ],
   "source": [
    "fig=plt.figure(figsize=(20,5))\n",
    "g=sns.countplot(x='PROVINCE',data=data)"
   ]
  },
  {
   "cell_type": "markdown",
   "metadata": {},
   "source": [
    "### 1.5 国籍\n",
    "\n",
    "1-中国 16-特殊情况 9-法国 2-美国"
   ]
  },
  {
   "cell_type": "code",
   "execution_count": 72,
   "metadata": {},
   "outputs": [
    {
     "data": {
      "text/plain": [
       "1     94275\n",
       "16    23629\n",
       "9        10\n",
       "2         5\n",
       "Name: NATIONALITY, dtype: int64"
      ]
     },
     "execution_count": 72,
     "metadata": {},
     "output_type": "execute_result"
    }
   ],
   "source": [
    "data['NATIONALITY'].value_counts()"
   ]
  },
  {
   "cell_type": "code",
   "execution_count": 70,
   "metadata": {
    "scrolled": true
   },
   "outputs": [
    {
     "data": {
      "image/png": "[encoded data removed]",
      "text/plain": [
       "<Figure size 432x288 with 1 Axes>"
      ]
     },
     "metadata": {},
     "output_type": "display_data"
    }
   ],
   "source": [
    "g=sns.countplot(x='NATIONALITY',data=data)"
   ]
  },
  {
   "cell_type": "markdown",
   "metadata": {},
   "source": [
    "<center>**房屋基本情况--**</center> "
   ]
  },
  {
   "cell_type": "code",
   "execution_count": null,
   "metadata": {},
   "outputs": [],
   "source": []
  }
 ],
 "metadata": {
  "kernelspec": {
   "display_name": "Python 3",
   "language": "python",
   "name": "python3"
  },
  "language_info": {
   "codemirror_mode": {
    "name": "ipython",
    "version": 3
   },
   "file_extension": ".py",
   "mimetype": "text/x-python",
   "name": "python",
   "nbconvert_exporter": "python",
   "pygments_lexer": "ipython3",
   "version": "3.6.5"
  }
 },
 "nbformat": 4,
 "nbformat_minor": 2
}
